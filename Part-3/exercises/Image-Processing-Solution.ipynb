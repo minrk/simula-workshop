{
 "cells": [
  {
   "cell_type": "markdown",
   "metadata": {},
   "source": [
    "# Image Manipulation with skimage"
   ]
  },
  {
   "cell_type": "markdown",
   "metadata": {},
   "source": [
    "In this exercise, we build a simple UI for performing basic image manipulation with [scikit-image](http://scikit-image.org/)."
   ]
  },
  {
   "cell_type": "code",
   "execution_count": null,
   "metadata": {
    "collapsed": false
   },
   "outputs": [],
   "source": [
    "from ipywidgets import interact, interactive, fixed\n",
    "from IPython.display import display\n",
    "\n",
    "import skimage\n",
    "from skimage import data, filters, io"
   ]
  },
  {
   "cell_type": "markdown",
   "metadata": {},
   "source": [
    "Scikit-image provides some pre-loaded example data, let's load the nice espresso cup:"
   ]
  },
  {
   "cell_type": "code",
   "execution_count": null,
   "metadata": {
    "collapsed": false
   },
   "outputs": [],
   "source": [
    "i = data.coffee()\n",
    "io.Image(i)"
   ]
  },
  {
   "cell_type": "markdown",
   "metadata": {},
   "source": [
    "The image `i`, which we see as a colored coffee cup, is to the computer an array:"
   ]
  },
  {
   "cell_type": "code",
   "execution_count": null,
   "metadata": {
    "collapsed": false
   },
   "outputs": [],
   "source": [
    "i.shape"
   ]
  },
  {
   "cell_type": "markdown",
   "metadata": {},
   "source": [
    "The first two dimensions are the XxY spatial dimensions of the image, and the third dimension indicates that there's actually three \"layers\", or \"channels\". In fact, while we see it in color, that's because we interpret it as such when rendering it on a monitor; in the computer, what we have are three 400x600 arrays of numbers that represent color intensities in each of these channels, one for red, one for green, one for blue.\n",
    "\n",
    "A very rudimentary \"image editor\" can be constructed by modifying the amount of each of these channels that the final image is composed of. We can multiply the orignal value at each pixel by a multiplier, altering the color balance of the original image.\n",
    "\n",
    "In addition, we'll toss in a blurring effect, courtesy of the fact that scikit-image provides out of the box a filter that convolves our image with a Gaussian of a specified width, effectively blurring the original image.\n",
    "\n",
    "Putting together these operations (multiplying each color channel by a certain amount and convolving the image with a Gaussian), we have our little image editor in the following function:"
   ]
  },
  {
   "cell_type": "code",
   "execution_count": null,
   "metadata": {
    "collapsed": true
   },
   "outputs": [],
   "source": [
    "def edit_image(image, sigma=0.1, r=1.0, g=1.0, b=1.0):\n",
    "    new_image = filters.gaussian_filter(image, sigma=sigma, multichannel=True)\n",
    "    new_image[:,:,0] = r*new_image[:,:,0]\n",
    "    new_image[:,:,1] = g*new_image[:,:,1]\n",
    "    new_image[:,:,2] = b*new_image[:,:,2]\n",
    "    new_image = io.Image(new_image)\n",
    "    display(new_image)"
   ]
  },
  {
   "cell_type": "markdown",
   "metadata": {},
   "source": [
    "We can for example blur our image with a gaussian of radius 5 pixels and knock out the red channel by 50%:"
   ]
  },
  {
   "cell_type": "code",
   "execution_count": null,
   "metadata": {
    "collapsed": false
   },
   "outputs": [],
   "source": [
    "edit_image(i, sigma=5, r=0.5)"
   ]
  },
  {
   "cell_type": "markdown",
   "metadata": {},
   "source": [
    "# Exercise\n",
    "\n",
    "Using IPython's `interact`, provide a slider for `sigma` that ranges from 0.1 to 10, as well as sliders for the red, green and blue channels that range from 0 to 1."
   ]
  },
  {
   "cell_type": "code",
   "execution_count": null,
   "metadata": {
    "collapsed": false
   },
   "outputs": [],
   "source": [
    "lims = (0.0,1.0,0.1)\n",
    "interact(edit_image, image=fixed(i), sigma=(0.0,10.0,0.1), r=lims, g=lims, b=lims)"
   ]
  },
  {
   "cell_type": "markdown",
   "metadata": {},
   "source": [
    "## Extra credit\n",
    "\n",
    "How would you have to modify the function to accept R, G, B sliders that could go beyond one?"
   ]
  },
  {
   "cell_type": "markdown",
   "metadata": {},
   "source": [
    "## Python 3 only: Function annotations"
   ]
  },
  {
   "cell_type": "markdown",
   "metadata": {},
   "source": [
    "In Python 3, you can use the new function annotation syntax to describe widgets for interact, and identifiers can also use Unicode, such as σ instead of `sigma`:"
   ]
  },
  {
   "cell_type": "code",
   "execution_count": null,
   "metadata": {
    "collapsed": false
   },
   "outputs": [],
   "source": [
    "lims = (0.0,1.0,0.01)\n",
    "\n",
    "@interact\n",
    "def edit_image(image: fixed(i),  σ:(0.0,10.0,0.1)=0.3,\n",
    "               r:lims=1.0, g:lims=1.0, b:lims=1.0):\n",
    "    \n",
    "    new_image = filters.gaussian_filter(image, sigma=σ, multichannel=True)\n",
    "    new_image[:,:,0] = r*new_image[:,:,0]\n",
    "    new_image[:,:,1] = g*new_image[:,:,1]\n",
    "    new_image[:,:,2] = b*new_image[:,:,2]\n",
    "    new_image = io.Image(new_image)\n",
    "    display(new_image)"
   ]
  }
 ],
 "metadata": {
  "kernelspec": {
   "display_name": "Python 3",
   "language": "python",
   "name": "python3"
  },
  "language_info": {
   "codemirror_mode": {
    "name": "ipython",
    "version": 3
   },
   "file_extension": ".py",
   "mimetype": "text/x-python",
   "name": "python",
   "nbconvert_exporter": "python",
   "pygments_lexer": "ipython3",
   "version": "3.4.3"
  }
 },
 "nbformat": 4,
 "nbformat_minor": 0
}
