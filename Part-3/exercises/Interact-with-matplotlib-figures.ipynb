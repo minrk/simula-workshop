{
 "cells": [
  {
   "cell_type": "markdown",
   "metadata": {},
   "source": [
    "# Configuring matplotlib figures interactively\n",
    "\n",
    "In this exercise, you will use IPython's interactive widget functionality to develop tools that can help you to tweak your matplotlib figures. Matplotlib figures have dozens of attributes that can be configured: line styles, colors, markers, fonts, etc.  Here, we will develop a simple tool to configure some of those attributes interactively on an existing figure.\n",
    "\n",
    "To carry out this exercise, it will help you to understand how matplotlib is structured internally. In addition to its own [extensive documentation](http://matplotlib.org/contents.html), we have provided as a quick reference a companion notebook called [\"matplotlib, beyond the basics\"](matplotlib_beyond_basics.ipynb) that walks you through how the architecture of matplotlib is assembled.  You may find it useful to refer to it while you work on this exercise.\n",
    "\n",
    "We begin with the standard setup for matplotlib:"
   ]
  },
  {
   "cell_type": "code",
   "execution_count": null,
   "metadata": {},
   "outputs": [],
   "source": [
    "%matplotlib inline\n",
    "from matplotlib import pyplot as plt\n",
    "import numpy as np"
   ]
  },
  {
   "cell_type": "markdown",
   "metadata": {},
   "source": [
    "Make a figure, store it as fig.  Since we're going to be transforming the figure later on, we need to hold on to a reference to it."
   ]
  },
  {
   "cell_type": "code",
   "execution_count": null,
   "metadata": {},
   "outputs": [],
   "source": [
    "fig, ax = plt.subplots()\n",
    "t = np.linspace(0, 2*np.pi, 300)\n",
    "s = np.sin(t**2)\n",
    "ax.plot(t, s);"
   ]
  },
  {
   "cell_type": "code",
   "execution_count": null,
   "metadata": {},
   "outputs": [],
   "source": [
    "# Press tab at the end of this to see what you can modify\n",
    "ax.set_"
   ]
  },
  {
   "cell_type": "markdown",
   "metadata": {
    "collapsed": true
   },
   "source": [
    "Now, we load the IPython `interact` tools:"
   ]
  },
  {
   "cell_type": "code",
   "execution_count": null,
   "metadata": {},
   "outputs": [],
   "source": [
    "from ipywidgets import interact\n",
    "from IPython.display import display"
   ]
  },
  {
   "cell_type": "markdown",
   "metadata": {},
   "source": [
    "And we can now begin to use this to tweak the properties of the plot. For example, let's define an interactive function that allows us to change the x and y labels of the plot:"
   ]
  },
  {
   "cell_type": "code",
   "execution_count": null,
   "metadata": {},
   "outputs": [],
   "source": [
    "@interact\n",
    "def xylabels(xlabel=\"x\", ylabel=\"y\"):\n",
    "    ax.set_xlabel(xlabel)\n",
    "    ax.set_ylabel(ylabel)\n",
    "    display(fig)    "
   ]
  },
  {
   "cell_type": "markdown",
   "metadata": {},
   "source": [
    "As you make many adjustments, if you have a complex figure, the continuous re-execution of the interactive function may become slow. In that case, instead of using `interact`, it may be preferable to use `interact_manual`, which works otherwise identically to `interact`, but must be triggered manually by clicking on a button:"
   ]
  },
  {
   "cell_type": "code",
   "execution_count": null,
   "metadata": {},
   "outputs": [],
   "source": [
    "ax.figure"
   ]
  },
  {
   "cell_type": "code",
   "execution_count": null,
   "metadata": {},
   "outputs": [],
   "source": [
    "from ipywidgets import interact_manual\n",
    "\n",
    "@interact_manual\n",
    "def xylabels(xlabel=\"x\", ylabel=\"y\"):\n",
    "    ax.set_xlabel(xlabel)\n",
    "    ax.set_ylabel(ylabel)\n",
    "    display(fig)    "
   ]
  },
  {
   "cell_type": "markdown",
   "metadata": {},
   "source": [
    "The above examples have relied on working with the global variables `fig` and `ax`, but in general it's not a good idea to rely on specifically named globals. Instead, it is much better to write a function that takes the axis object as an argument explicitly.\n",
    "\n",
    "Here, we see how to do that, by building an internal function that does the actual editing, and wrapping it in an outer function that takes our axis object as an argument. This also gives us the opportunity to, for example, provide a calling interface where we can choose at call time whether to activate the execution mode to be manual or automatic:"
   ]
  },
  {
   "cell_type": "code",
   "execution_count": null,
   "metadata": {},
   "outputs": [],
   "source": [
    "from ipywidgets import fixed\n",
    "\n",
    "def edit_labels(ax, manual=False):\n",
    "    \"\"\"Edit the labels of an axis object.\n",
    "    \n",
    "    Provide a graphical editor for the x, y and title labels of an axis.\n",
    "    \n",
    "    If the `manual` flag is True, the editor will have a \"Run\" button\n",
    "    to trigger execution, otherwise it will execute automatically any\n",
    "    time any of the labels changes (which could be slow for a complex\n",
    "    figure.)\n",
    "    \"\"\"\n",
    "    \n",
    "    def edit(xlabel, ylabel, title):\n",
    "        ax.set_xlabel(xlabel)\n",
    "        ax.set_ylabel(ylabel)\n",
    "        ax.set_title(title)\n",
    "        display(ax.figure)\n",
    "        \n",
    "    interact_call = interact_manual if manual else interact\n",
    "    interact_call(edit, ax=fixed(ax), xlabel=\"x\", ylabel=\"y\", title=\"title\")"
   ]
  },
  {
   "cell_type": "code",
   "execution_count": null,
   "metadata": {},
   "outputs": [],
   "source": [
    "edit_labels(ax)"
   ]
  },
  {
   "cell_type": "markdown",
   "metadata": {},
   "source": [
    "And we can still see our figure later, since we still have a reference to it:"
   ]
  },
  {
   "cell_type": "code",
   "execution_count": null,
   "metadata": {},
   "outputs": [],
   "source": [
    "ax.figure"
   ]
  },
  {
   "cell_type": "markdown",
   "metadata": {},
   "source": [
    "For the rest of this exercise, you should explore what other properties you can change, of the many matplotlib has, and how to do so in combination with the IPython widget framework.\n",
    "\n",
    "For example, some ideas:\n",
    "\n",
    "- For setting x/y limits, our `FloatRangeSlider` provides a widget that can set low/high limits in one shot.\n",
    "- For line properties, you can build a drop-down selectors or other widgets that consider the valid values from the [matplotlib documentation](http://matplotlib.org/users/pyplot_tutorial.html#controlling-line-properties).\n",
    "- You can even consider offering to change the kind of plot used: log/linear on either x or y axes.\n",
    "\n",
    "This is an open-ended exercise.  Furthermore, we will later present how to do some of these things in a more automatic way, though one that requires using more sophisticated programming techniques."
   ]
  },
  {
   "cell_type": "code",
   "execution_count": null,
   "metadata": {},
   "outputs": [],
   "source": [
    "# Your code here"
   ]
  }
 ],
 "metadata": {
  "kernelspec": {
   "display_name": "Python 3",
   "language": "python",
   "name": "python3"
  },
  "language_info": {
   "codemirror_mode": {
    "name": "ipython",
    "version": 3
   },
   "file_extension": ".py",
   "mimetype": "text/x-python",
   "name": "python",
   "nbconvert_exporter": "python",
   "pygments_lexer": "ipython3",
   "version": "3.5.2"
  },
  "widgets": {
   "state": {},
   "version": "1.1.1"
  }
 },
 "nbformat": 4,
 "nbformat_minor": 1
}
