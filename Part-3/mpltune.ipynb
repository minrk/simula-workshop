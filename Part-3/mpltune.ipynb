{
 "cells": [
  {
   "cell_type": "markdown",
   "metadata": {},
   "source": [
    "# Matplotlib plot editor\n",
    "\n",
    "This is a more advanced version of what you built using interact() in the [Interact with matplotlib figures](exercises/Interact-with-matplotlib-figures.ipynb) exercise. It showcases what you can do using widgets."
   ]
  },
  {
   "cell_type": "code",
   "execution_count": 1,
   "metadata": {
    "collapsed": true
   },
   "outputs": [],
   "source": [
    "%matplotlib inline\n",
    "from matplotlib import pyplot as plt"
   ]
  },
  {
   "cell_type": "code",
   "execution_count": 2,
   "metadata": {
    "collapsed": false
   },
   "outputs": [
    {
     "data": {
      "image/png": "[encoded data removed]",
      "text/plain": [
       "<matplotlib.figure.Figure at 0x7ff8a528e518>"
      ]
     },
     "metadata": {},
     "output_type": "display_data"
    }
   ],
   "source": [
    "plt.plot(range(10))\n",
    "fig = plt.gcf()\n",
    "ax = fig.axes[0]"
   ]
  },
  {
   "cell_type": "code",
   "execution_count": 3,
   "metadata": {
    "collapsed": false
   },
   "outputs": [
    {
     "name": "stderr",
     "output_type": "stream",
     "text": [
      ":0: FutureWarning: IPython widgets are experimental and may change in the future.\n"
     ]
    }
   ],
   "source": [
    "from ipywidgets import VBox, Text, IntRangeSlider, Dropdown, IntSlider\n",
    "from IPython.display import display, clear_output"
   ]
  },
  {
   "cell_type": "code",
   "execution_count": 4,
   "metadata": {
    "collapsed": false
   },
   "outputs": [],
   "source": [
    "axis_widget_definitions = [\n",
    "    {'description': 'x label',\n",
    "     'widget': Text,\n",
    "     'property': 'xlabel'\n",
    "    },\n",
    "    {'description': 'y label',\n",
    "     'widget': Text,\n",
    "     'property': 'ylabel'\n",
    "    },\n",
    "    {'description': 'title',\n",
    "     'widget': Text,\n",
    "     'property': 'title',\n",
    "    },\n",
    "    {'description': 'x limits',\n",
    "     'widget': IntRangeSlider,\n",
    "     'kwargs': {\n",
    "            # Make the starting range the middle third of the available range\n",
    "            'min': lambda v: v[0] - (v[1] - v[0]),\n",
    "            'max': lambda v: v[1] + (v[1] - v[0]),\n",
    "        },\n",
    "     'property': 'xlim'\n",
    "    },\n",
    "    {'description': 'y limits',\n",
    "     'widget': IntRangeSlider,\n",
    "     'kwargs': {\n",
    "            'min': lambda v: v[0] - (v[1] - v[0]),\n",
    "            'max': lambda v: v[1] + (v[1] - v[0]),\n",
    "        },\n",
    "     'property': 'ylim'\n",
    "    },\n",
    "]"
   ]
  },
  {
   "cell_type": "markdown",
   "metadata": {},
   "source": [
    "The implementation is still something of a work in progress."
   ]
  },
  {
   "cell_type": "code",
   "execution_count": 5,
   "metadata": {
    "collapsed": false
   },
   "outputs": [],
   "source": [
    "class TunerBase:\n",
    "    def __init__(self, obj):\n",
    "        self.obj = obj\n",
    "        self.changed_params = {}\n",
    "        self.child_tuners = {}\n",
    "    \n",
    "    _widget = None\n",
    "    \n",
    "    @property\n",
    "    def widget(self):\n",
    "        if self._widget is None:\n",
    "            self._widget = self._build_widget()\n",
    "        return self._widget\n",
    "\n",
    "    def make_set_callback(self, property_name):\n",
    "        def value_changed(_, new):\n",
    "            self.changed_params[property_name] = new\n",
    "            self.obj.set(**{property_name: new})\n",
    "            clear_output(wait=True)\n",
    "            display(self.obj.figure)\n",
    "        \n",
    "        return value_changed\n",
    "\n",
    "    def get_code(self, obj_name='o'):\n",
    "        lines = []\n",
    "        for property_name, value in self.changed_params.items():\n",
    "            lines.append(\"{}.set_{}({!r})\".format(obj_name, property_name, value))\n",
    "        return lines\n",
    "    \n",
    "    def code_to_cell(self, obj_name='o'):\n",
    "        code = \"\\n\".join(self.get_code(obj_name))\n",
    "        get_ipython().set_next_input(code)"
   ]
  },
  {
   "cell_type": "code",
   "execution_count": 6,
   "metadata": {
    "collapsed": false
   },
   "outputs": [],
   "source": [
    "line_widget_definitions = [\n",
    "    {'description': 'line width',\n",
    "     'widget': IntSlider,\n",
    "     'kwargs': {\n",
    "            'min': 1,\n",
    "            'max': 10\n",
    "        },\n",
    "     'property': 'linewidth'\n",
    "    },\n",
    "]\n",
    "\n",
    "class LineTuner(TunerBase):\n",
    "    def _build_widget(self):\n",
    "        ww = []\n",
    "        for widget_def in line_widget_definitions:\n",
    "            property_name = widget_def['property']\n",
    "            initial_value = plt.get(self.obj, property_name)\n",
    "            kwargs = {}\n",
    "            for k, v in widget_def.get('kwargs', {}).items():\n",
    "                if callable(v):\n",
    "                    kwargs[k] = v(initial_value)\n",
    "                else:\n",
    "                    kwargs[k] = v\n",
    "            w = widget_def['widget'](value=initial_value,\n",
    "                                     description=widget_def['description'],\n",
    "                                     **kwargs)\n",
    "            w.on_trait_change(self.make_set_callback(property_name), 'value')\n",
    "            ww.append(w)\n",
    "        \n",
    "        print(ww)\n",
    "        \n",
    "        return VBox(children=tuple(ww))\n",
    "        "
   ]
  },
  {
   "cell_type": "code",
   "execution_count": 7,
   "metadata": {
    "collapsed": false
   },
   "outputs": [],
   "source": [
    "class AxisTuner(TunerBase):\n",
    "    \n",
    "    def _build_widget(self):\n",
    "        ww = []\n",
    "        for widget_def in axis_widget_definitions:\n",
    "            property_name = widget_def['property']\n",
    "            initial_value = plt.get(self.obj, property_name)\n",
    "            kwargs = {}\n",
    "            for k, v in widget_def.get('kwargs', {}).items():\n",
    "                if callable(v):\n",
    "                    kwargs[k] = v(initial_value)\n",
    "                else:\n",
    "                    kwargs[k] = v\n",
    "            w = widget_def['widget'](value=initial_value,\n",
    "                                     description=widget_def['description'],\n",
    "                                     **kwargs)\n",
    "            w.on_trait_change(self.make_set_callback(property_name), 'value')\n",
    "            ww.append(w)\n",
    "        \n",
    "        objects_choices = []\n",
    "        for i, line in enumerate(self.obj.lines):\n",
    "            print(line)\n",
    "            plot_obj_id = 'line:%d' % i\n",
    "            objects_choices.append(('Line %d' % (i+1), plot_obj_id))\n",
    "            self.child_tuners[plot_obj_id] = LineTuner(line)\n",
    "        \n",
    "        if objects_choices:\n",
    "            object_selector = Dropdown(options=objects_choices)\n",
    "            ww.append(object_selector)\n",
    "            first_child_widget = self.child_tuners[objects_choices[0][1]].widget\n",
    "            object_tuner_box = VBox(children=(first_child_widget,))\n",
    "            ww.append(object_tuner_box)\n",
    "            def switch_child(_, new):\n",
    "                new_widget = self.child_tuners[new].widget\n",
    "                object_tuner_box.children = (new_widget,)\n",
    "            object_selector.on_trait_change(switch_child, 'value')\n",
    "    \n",
    "        return VBox(children=tuple(ww))\n",
    "    \n",
    "    def get_code(self, axis_name='ax'):\n",
    "        lines = []\n",
    "        for property_name, value in self.changed_params.items():\n",
    "            lines.append(\"{}.set_{}({!r})\".format(axis_name, property_name, value))\n",
    "        for i, line in enumerate(self.obj.lines):\n",
    "            line_tuner = self.child_tuners['line:%d' % i]\n",
    "            lines.extend(line_tuner.get_code(axis_name + \".lines[%d]\" % i))\n",
    "        return lines\n",
    "\n",
    "def tune_axis(ax):\n",
    "    at = AxisTuner(ax)\n",
    "    display(at.widget)\n",
    "    display(ax.figure)\n",
    "    return at"
   ]
  },
  {
   "cell_type": "code",
   "execution_count": 8,
   "metadata": {
    "collapsed": false
   },
   "outputs": [
    {
     "data": {
      "image/png": "[encoded data removed]",
      "text/plain": [
       "<matplotlib.figure.Figure at 0x7ff8a528e518>"
      ]
     },
     "metadata": {},
     "output_type": "display_data"
    }
   ],
   "source": [
    "tuner = tune_axis(ax)"
   ]
  },
  {
   "cell_type": "markdown",
   "metadata": {},
   "source": [
    "## Getting the code\n",
    "\n",
    "We don't want to have to redo these tweaks by hand every time we generate the plot. So the tuner records the changes we made, and it can generate Python code to reproduce the same settings."
   ]
  },
  {
   "cell_type": "code",
   "execution_count": 9,
   "metadata": {
    "collapsed": false
   },
   "outputs": [
    {
     "data": {
      "text/plain": [
       "[\"ax.set_xlabel('some x')\",\n",
       " \"ax.set_title('Awesome plot')\",\n",
       " 'ax.lines[0].set_linewidth(2)']"
      ]
     },
     "execution_count": 9,
     "metadata": {},
     "output_type": "execute_result"
    }
   ],
   "source": [
    "tuner.get_code()"
   ]
  },
  {
   "cell_type": "code",
   "execution_count": 10,
   "metadata": {
    "collapsed": false
   },
   "outputs": [],
   "source": [
    "# This will put the code in the next cell\n",
    "tuner.code_to_cell()"
   ]
  },
  {
   "cell_type": "code",
   "execution_count": null,
   "metadata": {
    "collapsed": true
   },
   "outputs": [],
   "source": [
    "o.set_xlabel('some x')\n",
    "o.set_title('Awesome plot')\n",
    "o.lines[0].set_linewidth(2)"
   ]
  }
 ],
 "metadata": {
  "kernelspec": {
   "display_name": "Python 3",
   "language": "python",
   "name": "python3"
  },
  "language_info": {
   "codemirror_mode": {
    "name": "ipython",
    "version": 3
   },
   "file_extension": ".py",
   "mimetype": "text/x-python",
   "name": "python",
   "nbconvert_exporter": "python",
   "pygments_lexer": "ipython3",
   "version": "3.4.3"
  }
 },
 "nbformat": 4,
 "nbformat_minor": 0
}
