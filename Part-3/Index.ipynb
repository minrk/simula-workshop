{
 "cells": [
  {
   "cell_type": "markdown",
   "metadata": {},
   "source": [
    "<img src=\"images/ipython_logo.png\">"
   ]
  },
  {
   "cell_type": "markdown",
   "metadata": {},
   "source": [
    "# Part 2:  Interactive Widgets\n",
    "\n",
    "IPython includes an architecture for interactive widgets that tie together Python code running in the kernel and JavaScript/HTML/CSS  running in the browser. These widgets enable users to explore their code and data interactively.\n",
    "\n",
    "## Interactive HTML Widgets\n",
    "\n",
    "- [Using Interact](Using Interact.ipynb)\n",
    "- [Widget Basics](Widget Basics.ipynb)  \n",
    "- [Widget List](Widget List.ipynb)\n",
    "- [Widget Events](Widget Events.ipynb)  \n",
    "\n",
    "## Exercises\n",
    "\n",
    "* [Interact Basics](exercises/InteractBasics.ipynb)\n",
    "* [Image Processing](exercises/Image Processing.ipynb)\n",
    "* [Comparing two images](exercises/ImageCompare.ipynb)\n",
    "* [Basics of Widgets](exercises/WidgetBasics.ipynb)\n",
    "* [Interacting with Matplotlib](exercises/Interact%20with%20matplotlib%20figures.ipynb)\n",
    "\n",
    "---------\n",
    "\n",
    "# Additional materials for further reading\n",
    "\n",
    "## More Examples using `interact`/`interactive`\n",
    "\n",
    "* [Beat Frequencies](Beat Frequencies.ipynb)\n",
    "* [Exploring Graphs](Exploring Graphs.ipynb)\n",
    "* [Image Browser](Image Browser.ipynb)\n",
    "* [Lorenz Differential Equations](Lorenz Differential Equations.ipynb)\n",
    "\n",
    "## Examples of custom widgets\n",
    "\n",
    "- [Widget Styling](Widget Styling.ipynb)\n",
    "- [Custom Widget](Custom Widget - Hello World.ipynb)\n",
    "- [Variable Inspector](Variable Inspector.ipynb)  \n",
    "- [Export As (nbconvert)](Export As (nbconvert%29.ipynb)  \n",
    "- [Nonblocking Console](Nonblocking Console.ipynb)  \n",
    "- [File Upload Widget](File Upload Widget.ipynb)"
   ]
  },
  {
   "cell_type": "code",
   "execution_count": null,
   "metadata": {},
   "outputs": [],
   "source": []
  }
 ],
 "metadata": {
  "kernelspec": {
   "display_name": "Python 3",
   "language": "python",
   "name": "python3"
  },
  "language_info": {
   "codemirror_mode": {
    "name": "ipython",
    "version": 3
   },
   "file_extension": ".py",
   "mimetype": "text/x-python",
   "name": "python",
   "nbconvert_exporter": "python",
   "pygments_lexer": "ipython3",
   "version": "3.6.5"
  },
  "widgets": {
   "state": {},
   "version": "1.1.1"
  }
 },
 "nbformat": 4,
 "nbformat_minor": 2
}
