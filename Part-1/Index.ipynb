{
 "cells": [
  {
   "cell_type": "markdown",
   "metadata": {},
   "source": [
    "<img src=\"images/ipython_logo.png\">"
   ]
  },
  {
   "cell_type": "markdown",
   "metadata": {},
   "source": [
    "# Part 1: Jupyter and IPython overview"
   ]
  },
  {
   "cell_type": "markdown",
   "metadata": {},
   "source": [
    "In this day, we will cover the core parts of Jupyter and IPython, including how to use the various frontends, the Jupyter notebook, and how the IPython kernel goes beyond the plain Python language.\n",
    "\n",
    "**Jupyter** includes the notebook interface and various other pieces which work with multiple programming languages. **IPython** is the Jupyter backend for running Python code."
   ]
  },
  {
   "cell_type": "markdown",
   "metadata": {},
   "source": [
    "## Getting started\n",
    "\n",
    "* [What is the Jupyter Notebook](Notebook/What-is-the-Jupyter-Notebook.ipynb)\n",
    "* [Notebook Basics](Notebook/Notebook-Basics.ipynb)\n",
    "* [Running Code](Notebook/Running-Code.ipynb)\n",
    "* [Markdown Cells](Notebook/Working-With-Markdown-Cells.ipynb)\n",
    "\n",
    "\n",
    "## Magics, specialized display and other tricks of IPython\n",
    "\n",
    "* [IPython extra language features](IPython-Kernel/Beyond-Plain-Python.ipynb)\n",
    "* [Plotting in the Notebook](IPython-Kernel/Plotting-in-the-Notebook.ipynb)\n",
    "* [Rich Display System](IPython-Kernel/Rich-Output.ipynb)\n",
    "* [Cell Magics](IPython-Kernel/Cell-Magics.ipynb)\n",
    "* [Interactive Widgets](../Part-3/Index.ipynb)\n",
    "\n",
    "\n",
    "#### Exercise\n",
    "\n",
    "* [Mapping seismic stations](exercises/mapping_seismic_stations.ipynb)\n",
    "\n",
    "-------\n",
    "\n",
    "# Additional materials for supplementary reading\n",
    "\n",
    "* [Using input and %debug in the Notebook](IPython-Kernel/Input-in-the-Notebook.ipynb)\n",
    "* [Simple Animations Using clear_output](IPython-Kernel/Animations-Using-clear_output.ipynb)\n",
    "* [Simple interactive bacgkround jobs with IPython](IPython-Kernel/Background-Jobs.ipynb)\n",
    "* [A few things that work best/only at the IPython terminal or Qt console clients](IPython-Kernel/Terminal-Usage.ipynb)\n",
    "* [Calling arbitrary system scripts with cell magics](IPython-Kernel/Script-Magics.ipynb)\n",
    "* [Custom Display Logic](IPython-Kernel/Custom-Display-Logic.ipynb)\n",
    "* [Third Party Libraries With Rich Output](IPython-Kernel/Third-Party-Rich-Output.ipynb)\n",
    "* [Combining symbolic and numerical computing in the IPython notebook with SymPy and NumPy](IPython-Kernel/SymPy.ipynb)\n",
    "* [Configuring the Notebook and Server](Notebook/Configuring-the-Notebook-and-Server.ipynb)\n",
    "* [Custom Keyboard Shortcuts](Notebook/Custom-Keyboard-Shortcuts.ipynb)\n",
    "* [JavaScript Notebook Extensions](Notebook/JavaScript-Notebook-Extensions.ipynb)\n",
    "* [Converting Notebooks With nbconvert](Notebook/Converting-Notebooks-With-nbconvert.ipynb)\n",
    "* [Typesetting Equations](Notebook/Typesetting-Equations.ipynb)"
   ]
  },
  {
   "cell_type": "code",
   "execution_count": null,
   "metadata": {},
   "outputs": [],
   "source": []
  }
 ],
 "metadata": {
  "kernelspec": {
   "display_name": "Python 3",
   "language": "python",
   "name": "python3"
  },
  "language_info": {
   "codemirror_mode": {
    "name": "ipython",
    "version": 3
   },
   "file_extension": ".py",
   "mimetype": "text/x-python",
   "name": "python",
   "nbconvert_exporter": "python",
   "pygments_lexer": "ipython3",
   "version": "3.6.5"
  }
 },
 "nbformat": 4,
 "nbformat_minor": 2
}
