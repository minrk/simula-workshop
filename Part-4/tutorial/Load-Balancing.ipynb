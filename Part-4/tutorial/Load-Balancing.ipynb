{
 "cells": [
  {
   "cell_type": "markdown",
   "metadata": {},
   "source": [
    "# Load-balancing with IPython.parallel"
   ]
  },
  {
   "cell_type": "code",
   "execution_count": 1,
   "metadata": {
    "collapsed": true
   },
   "outputs": [],
   "source": [
    "import os,sys,time\n",
    "import numpy as np\n",
    "\n",
    "from IPython.core.display import display\n",
    "import ipyparallel as ipp\n",
    "rc = ipp.Client()\n",
    "dview = rc[:]"
   ]
  },
  {
   "cell_type": "markdown",
   "metadata": {},
   "source": [
    "Create a LoadBalancedView"
   ]
  },
  {
   "cell_type": "code",
   "execution_count": 2,
   "metadata": {},
   "outputs": [
    {
     "data": {
      "text/plain": [
       "<LoadBalancedView None>"
      ]
     },
     "execution_count": 2,
     "metadata": {},
     "output_type": "execute_result"
    }
   ],
   "source": [
    "lview = rc.load_balanced_view()\n",
    "lview"
   ]
  },
  {
   "cell_type": "markdown",
   "metadata": {},
   "source": [
    "LoadBalancedViews behave very much like a DirectView on a single engine:\n",
    "\n",
    "Each call to `apply()` results in a single remote computation,\n",
    "and the result (or AsyncResult) of that call is returned directly,\n",
    "rather than in a list, as in the multi-engine DirectView."
   ]
  },
  {
   "cell_type": "code",
   "execution_count": 3,
   "metadata": {
    "collapsed": true
   },
   "outputs": [],
   "source": [
    "e0 = rc[0]"
   ]
  },
  {
   "cell_type": "code",
   "execution_count": 4,
   "metadata": {},
   "outputs": [
    {
     "data": {
      "text/plain": [
       "18.595714829840038"
      ]
     },
     "execution_count": 4,
     "metadata": {},
     "output_type": "execute_result"
    }
   ],
   "source": [
    "from numpy.linalg import norm\n",
    "A = np.random.random(1024)\n",
    "\n",
    "e0.apply_sync(norm, A, 2)"
   ]
  },
  {
   "cell_type": "code",
   "execution_count": 5,
   "metadata": {},
   "outputs": [
    {
     "data": {
      "text/plain": [
       "18.595714829840038"
      ]
     },
     "execution_count": 5,
     "metadata": {},
     "output_type": "execute_result"
    }
   ],
   "source": [
    "lview.apply_sync(norm, A, 2)"
   ]
  },
  {
   "cell_type": "markdown",
   "metadata": {},
   "source": [
    "However, unlike the DirectView of a single engine, you are letting the IPython Scheduler decide which engine should do the work:"
   ]
  },
  {
   "cell_type": "code",
   "execution_count": 7,
   "metadata": {},
   "outputs": [
    {
     "data": {
      "text/plain": [
       "23698"
      ]
     },
     "execution_count": 7,
     "metadata": {},
     "output_type": "execute_result"
    }
   ],
   "source": [
    "e0.apply_sync(os.getpid)"
   ]
  },
  {
   "cell_type": "code",
   "execution_count": 8,
   "metadata": {},
   "outputs": [
    {
     "name": "stdout",
     "output_type": "stream",
     "text": [
      "task 0 ran on: 23698\n",
      "task 1 ran on: 23699\n",
      "task 2 ran on: 23701\n",
      "task 3 ran on: 23700\n",
      "task 4 ran on: 23698\n",
      "task 5 ran on: 23699\n",
      "task 6 ran on: 23701\n",
      "task 7 ran on: 23700\n"
     ]
    }
   ],
   "source": [
    "for i in range(2*len(rc.ids)):\n",
    "    pid = lview.apply_sync(os.getpid)\n",
    "    print(\"task %i ran on: %i\" % (i, pid))"
   ]
  },
  {
   "cell_type": "markdown",
   "metadata": {},
   "source": [
    "# Map\n",
    "\n",
    "The LoadBalancedView also has a load-balanced version of the builtin `map()`"
   ]
  },
  {
   "cell_type": "code",
   "execution_count": 13,
   "metadata": {},
   "outputs": [
    {
     "data": {
      "text/plain": [
       "True"
      ]
     },
     "execution_count": 13,
     "metadata": {},
     "output_type": "execute_result"
    }
   ],
   "source": [
    "lview.block = True\n",
    "\n",
    "serial_result   =  list(map(lambda x:x**10, range(32)))\n",
    "parallel_result = lview.map(lambda x:x**10, range(32))\n",
    "\n",
    "serial_result==parallel_result"
   ]
  },
  {
   "cell_type": "markdown",
   "metadata": {},
   "source": [
    "Just like `apply()`, you can use non-blocking map with `block=False` or `map_async`"
   ]
  },
  {
   "cell_type": "code",
   "execution_count": 15,
   "metadata": {},
   "outputs": [
    {
     "data": {
      "text/plain": [
       "32"
      ]
     },
     "execution_count": 15,
     "metadata": {},
     "output_type": "execute_result"
    }
   ],
   "source": [
    "amr = lview.map_async(lambda x:x**10, range(32))\n",
    "len(amr.msg_ids)"
   ]
  },
  {
   "cell_type": "code",
   "execution_count": 16,
   "metadata": {},
   "outputs": [
    {
     "data": {
      "text/plain": [
       "8"
      ]
     },
     "execution_count": 16,
     "metadata": {},
     "output_type": "execute_result"
    }
   ],
   "source": [
    "amr = lview.map_async(lambda x:x**10, range(32), chunksize=4)\n",
    "len(amr.msg_ids)"
   ]
  },
  {
   "cell_type": "code",
   "execution_count": 18,
   "metadata": {},
   "outputs": [
    {
     "name": "stdout",
     "output_type": "stream",
     "text": [
      "3200/3200 tasks finished after   40 s\n",
      "done\n"
     ]
    },
    {
     "ename": "TypeError",
     "evalue": "'float' object is not callable",
     "output_type": "error",
     "traceback": [
      "\u001b[0;31m---------------------------------------------------------------------------\u001b[0m",
      "\u001b[0;31mTypeError\u001b[0m                                 Traceback (most recent call last)",
      "\u001b[0;32m<ipython-input-18-ee8de908032b>\u001b[0m in \u001b[0;36m<module>\u001b[0;34m()\u001b[0m\n\u001b[1;32m      2\u001b[0m \u001b[0mlen\u001b[0m\u001b[0;34m(\u001b[0m\u001b[0mamr\u001b[0m\u001b[0;34m.\u001b[0m\u001b[0mmsg_ids\u001b[0m\u001b[0;34m)\u001b[0m\u001b[0;34m\u001b[0m\u001b[0m\n\u001b[1;32m      3\u001b[0m \u001b[0mamr\u001b[0m\u001b[0;34m.\u001b[0m\u001b[0mwait_interactive\u001b[0m\u001b[0;34m(\u001b[0m\u001b[0;34m)\u001b[0m\u001b[0;34m\u001b[0m\u001b[0m\n\u001b[0;32m----> 4\u001b[0;31m \u001b[0mamr\u001b[0m\u001b[0;34m.\u001b[0m\u001b[0mwall_time\u001b[0m\u001b[0;34m(\u001b[0m\u001b[0;34m)\u001b[0m\u001b[0;34m\u001b[0m\u001b[0m\n\u001b[0m",
      "\u001b[0;31mTypeError\u001b[0m: 'float' object is not callable"
     ]
    }
   ],
   "source": [
    "amr = lview.map_async(lambda x:x**10, range(3200))\n",
    "len(amr.msg_ids)\n",
    "amr.wait_interactive()\n",
    "amr.wall_time()"
   ]
  },
  {
   "cell_type": "code",
   "execution_count": 19,
   "metadata": {},
   "outputs": [
    {
     "data": {
      "text/plain": [
       "40.066079"
      ]
     },
     "execution_count": 19,
     "metadata": {},
     "output_type": "execute_result"
    }
   ],
   "source": [
    "amr.wall_time"
   ]
  },
  {
   "cell_type": "code",
   "execution_count": 20,
   "metadata": {},
   "outputs": [
    {
     "data": {
      "text/plain": [
       "4.272494999999998"
      ]
     },
     "execution_count": 20,
     "metadata": {},
     "output_type": "execute_result"
    }
   ],
   "source": [
    "amr.serial_time"
   ]
  },
  {
   "cell_type": "code",
   "execution_count": 21,
   "metadata": {},
   "outputs": [
    {
     "name": "stdout",
     "output_type": "stream",
     "text": [
      "  32/32 tasks finished after    0 s\n",
      "done\n"
     ]
    },
    {
     "data": {
      "text/plain": [
       "(0.046026, 0.604445)"
      ]
     },
     "execution_count": 21,
     "metadata": {},
     "output_type": "execute_result"
    }
   ],
   "source": [
    "amr = lview.map_async(lambda x:x**10, range(3200), chunksize=100)\n",
    "len(amr.msg_ids)\n",
    "amr.wait_interactive()\n",
    "amr.serial_time, amr.wall_time"
   ]
  },
  {
   "cell_type": "markdown",
   "metadata": {},
   "source": [
    "## Map results are iterable!\n",
    "\n",
    "AsyncResults with multiple results are actually iterable before their\n",
    "results arrive.\n",
    "\n",
    "This means that you can perform map/reduce operations on elements as\n",
    "they come in:"
   ]
  },
  {
   "cell_type": "code",
   "execution_count": 22,
   "metadata": {
    "collapsed": true
   },
   "outputs": [],
   "source": [
    "lview.block = False"
   ]
  },
  {
   "cell_type": "code",
   "execution_count": 24,
   "metadata": {},
   "outputs": [
    {
     "name": "stdout",
     "output_type": "stream",
     "text": [
      "[0, 1, 2, 3]\n",
      "0: 0.027\n",
      "1: 1.034\n",
      "2: 2.059\n",
      "3: 3.051\n"
     ]
    }
   ],
   "source": [
    "# scatter 'id', so id=0,1,2 on engines 0,1,2\n",
    "dv = rc[:]\n",
    "dv.scatter('id', rc.ids, flatten=True)\n",
    "print(dv['id'])\n",
    "\n",
    "# create a Reference to `id`. This will be a different value on each engine\n",
    "ref = ipp.Reference('id')\n",
    "\n",
    "tic = time.time()\n",
    "ar = dv.apply(time.sleep, ref)\n",
    "for i,r in enumerate(ar):\n",
    "    print(\"%i: %.3f\"%(i, time.time()-tic))"
   ]
  },
  {
   "cell_type": "code",
   "execution_count": 25,
   "metadata": {
    "collapsed": true
   },
   "outputs": [],
   "source": [
    "amr = lview.map_async(time.sleep, [1] * 12)"
   ]
  },
  {
   "cell_type": "code",
   "execution_count": 26,
   "metadata": {},
   "outputs": [
    {
     "name": "stdout",
     "output_type": "stream",
     "text": [
      "  12/12 tasks finished after    3 s\n",
      "done\n"
     ]
    }
   ],
   "source": [
    "amr.wait_interactive()"
   ]
  },
  {
   "cell_type": "code",
   "execution_count": 27,
   "metadata": {},
   "outputs": [
    {
     "data": {
      "text/plain": [
       "(3.171044, 3.171044)"
      ]
     },
     "execution_count": 27,
     "metadata": {},
     "output_type": "execute_result"
    }
   ],
   "source": [
    "amr.wall_time, amr.elapsed"
   ]
  },
  {
   "cell_type": "code",
   "execution_count": 28,
   "metadata": {},
   "outputs": [
    {
     "data": {
      "text/plain": [
       "12.041780999999999"
      ]
     },
     "execution_count": 28,
     "metadata": {},
     "output_type": "execute_result"
    }
   ],
   "source": [
    "amr.serial_time"
   ]
  },
  {
   "cell_type": "code",
   "execution_count": 30,
   "metadata": {},
   "outputs": [
    {
     "data": {
      "text/plain": [
       "0.9493546131810215"
      ]
     },
     "execution_count": 30,
     "metadata": {},
     "output_type": "execute_result"
    }
   ],
   "source": [
    "(amr.serial_time / amr.wall_time) / len(rc)"
   ]
  },
  {
   "cell_type": "markdown",
   "metadata": {},
   "source": [
    "Now we submit a bunch of tasks of increasing magnitude, and\n",
    "watch where they happen, iterating through the results as they come."
   ]
  },
  {
   "cell_type": "code",
   "execution_count": 31,
   "metadata": {},
   "outputs": [
    {
     "name": "stdout",
     "output_type": "stream",
     "text": [
      "task 0 on engine 0: 0.002\n",
      "task 1 on engine 1: 0.016\n",
      "task 2 on engine 3: 0.019\n",
      "task 3 on engine 2: 0.019\n",
      "task 4 on engine 0: 0.049\n",
      "task 5 on engine 2: 0.049\n",
      "task 6 on engine 1: 0.069\n",
      "task 7 on engine 3: 0.100\n",
      "task 8 on engine 2: 0.175\n",
      "task 9 on engine 0: 0.206\n",
      "task 10 on engine 1: 0.214\n",
      "task 11 on engine 3: 0.237\n",
      "task 12 on engine 2: 0.311\n",
      "task 13 on engine 0: 0.398\n",
      "task 14 on engine 1: 0.405\n",
      "task 15 on engine 3: 0.431\n",
      "task 16 on engine 2: 0.506\n",
      "task 17 on engine 0: 0.579\n",
      "task 18 on engine 1: 0.644\n",
      "task 19 on engine 3: 0.670\n",
      "task 20 on engine 2: 0.744\n",
      "task 21 on engine 0: 0.826\n",
      "task 22 on engine 1: 0.883\n",
      "task 23 on engine 3: 0.962\n",
      "task 24 on engine 2: 1.026\n",
      "task 25 on engine 0: 1.110\n",
      "task 26 on engine 1: 1.179\n",
      "task 27 on engine 3: 1.253\n",
      "task 28 on engine 2: 1.318\n",
      "task 29 on engine 0: 1.452\n",
      "task 30 on engine 1: 1.517\n",
      "task 31 on engine 3: 1.587\n",
      "task 32 on engine 2: 1.654\n",
      "task 33 on engine 0: 1.837\n",
      "task 34 on engine 1: 1.901\n",
      "task 35 on engine 3: 1.975\n",
      "task 36 on engine 2: 2.050\n",
      "task 37 on engine 0: 2.225\n",
      "task 38 on engine 1: 2.296\n",
      "task 39 on engine 3: 2.424\n",
      "task 40 on engine 2: 2.493\n",
      "task 41 on engine 0: 2.677\n",
      "task 42 on engine 1: 2.737\n",
      "task 43 on engine 3: 2.913\n",
      "task 44 on engine 2: 2.981\n",
      "task 45 on engine 0: 3.165\n",
      "task 46 on engine 1: 3.230\n",
      "task 47 on engine 3: 3.399\n",
      "task 48 on engine 2: 3.522\n",
      "task 49 on engine 0: 3.709\n",
      "task 50 on engine 1: 3.765\n",
      "task 51 on engine 3: 3.936\n",
      "task 52 on engine 2: 4.061\n",
      "task 53 on engine 0: 4.290\n",
      "task 54 on engine 1: 4.362\n",
      "task 55 on engine 3: 4.533\n",
      "task 56 on engine 2: 4.650\n",
      "task 57 on engine 0: 4.875\n",
      "task 58 on engine 1: 4.999\n",
      "task 59 on engine 3: 5.169\n",
      "task 60 on engine 2: 5.294\n",
      "task 61 on engine 0: 5.521\n",
      "task 62 on engine 1: 5.637\n",
      "task 63 on engine 3: 5.863\n",
      "task 64 on engine 2: 5.982\n",
      "task 65 on engine 0: 6.207\n",
      "task 66 on engine 1: 6.327\n",
      "task 67 on engine 3: 6.552\n",
      "task 68 on engine 2: 6.719\n",
      "task 69 on engine 0: 6.953\n",
      "task 70 on engine 1: 7.063\n",
      "task 71 on engine 3: 7.290\n",
      "task 72 on engine 2: 7.463\n",
      "task 73 on engine 0: 7.737\n",
      "task 74 on engine 1: 7.854\n",
      "task 75 on engine 3: 8.086\n",
      "task 76 on engine 2: 8.250\n",
      "task 77 on engine 0: 8.535\n",
      "task 78 on engine 1: 8.704\n",
      "task 79 on engine 3: 8.921\n",
      "task 80 on engine 2: 9.091\n",
      "task 81 on engine 0: 9.368\n",
      "task 82 on engine 1: 9.593\n",
      "task 83 on engine 3: 9.808\n",
      "task 84 on engine 2: 9.981\n",
      "task 85 on engine 0: 10.262\n",
      "task 86 on engine 1: 10.475\n",
      "task 87 on engine 3: 10.702\n",
      "task 88 on engine 2: 10.917\n",
      "task 89 on engine 0: 11.200\n",
      "task 90 on engine 1: 11.415\n",
      "task 91 on engine 3: 11.637\n",
      "task 92 on engine 2: 11.854\n",
      "task 93 on engine 0: 12.186\n",
      "task 94 on engine 1: 12.401\n",
      "task 95 on engine 3: 12.632\n",
      "task 96 on engine 2: 12.849\n",
      "task 97 on engine 0: 13.182\n",
      "task 98 on engine 1: 13.391\n",
      "task 99 on engine 3: 13.680\n"
     ]
    }
   ],
   "source": [
    "def sleep_here(t):\n",
    "    \"\"\"sleep here for a time, return where it happened\"\"\"\n",
    "    import time\n",
    "    time.sleep(t)\n",
    "    return id\n",
    "\n",
    "amr = lview.map(sleep_here, [.01*t for t in range(100)])\n",
    "tic = time.time()\n",
    "for i,r in enumerate(amr):\n",
    "    print(\"task %i on engine %i: %.3f\" % (i, r, time.time()-tic))\n"
   ]
  },
  {
   "cell_type": "code",
   "execution_count": 32,
   "metadata": {},
   "outputs": [
    {
     "data": {
      "text/plain": [
       "13.781203"
      ]
     },
     "execution_count": 32,
     "metadata": {},
     "output_type": "execute_result"
    }
   ],
   "source": [
    "amr.wall_time"
   ]
  },
  {
   "cell_type": "code",
   "execution_count": 33,
   "metadata": {},
   "outputs": [
    {
     "data": {
      "text/plain": [
       "49.838634"
      ]
     },
     "execution_count": 33,
     "metadata": {},
     "output_type": "execute_result"
    }
   ],
   "source": [
    "amr.serial_time"
   ]
  },
  {
   "cell_type": "code",
   "execution_count": 34,
   "metadata": {},
   "outputs": [
    {
     "data": {
      "text/plain": [
       "3.616421149880747"
      ]
     },
     "execution_count": 34,
     "metadata": {},
     "output_type": "execute_result"
    }
   ],
   "source": [
    "amr.serial_time / amr.wall_time"
   ]
  },
  {
   "cell_type": "markdown",
   "metadata": {},
   "source": [
    "Unlike `DirectView.map()`, which always results in one task per engine,\n",
    "LoadBalance map defaults to one task per *item* in the sequence.  This\n",
    "can be changed by specifying the `chunksize` keyword arg."
   ]
  },
  {
   "cell_type": "code",
   "execution_count": 35,
   "metadata": {},
   "outputs": [
    {
     "name": "stdout",
     "output_type": "stream",
     "text": [
      "task 0 on engine 2: 0.083\n",
      "task 1 on engine 2: 0.083\n",
      "task 2 on engine 2: 0.084\n",
      "task 3 on engine 2: 0.084\n",
      "task 4 on engine 0: 0.265\n",
      "task 5 on engine 0: 0.265\n",
      "task 6 on engine 0: 0.265\n",
      "task 7 on engine 0: 0.265\n",
      "task 8 on engine 1: 0.426\n",
      "task 9 on engine 1: 0.426\n",
      "task 10 on engine 1: 0.426\n",
      "task 11 on engine 1: 0.426\n",
      "task 12 on engine 3: 0.602\n",
      "task 13 on engine 3: 0.602\n",
      "task 14 on engine 3: 0.602\n",
      "task 15 on engine 3: 0.602\n",
      "task 16 on engine 2: 0.829\n",
      "task 17 on engine 2: 0.829\n",
      "task 18 on engine 2: 0.829\n",
      "task 19 on engine 2: 0.830\n",
      "task 20 on engine 0: 1.151\n",
      "task 21 on engine 0: 1.151\n",
      "task 22 on engine 0: 1.151\n",
      "task 23 on engine 0: 1.151\n",
      "task 24 on engine 1: 1.470\n",
      "task 25 on engine 1: 1.471\n",
      "task 26 on engine 1: 1.471\n",
      "task 27 on engine 1: 1.471\n",
      "task 28 on engine 3: 1.841\n",
      "task 29 on engine 3: 1.841\n",
      "task 30 on engine 3: 1.841\n",
      "task 31 on engine 3: 1.841\n",
      "task 32 on engine 2: 2.215\n",
      "task 33 on engine 2: 2.215\n",
      "task 34 on engine 2: 2.216\n",
      "task 35 on engine 2: 2.216\n",
      "task 36 on engine 0: 2.692\n",
      "task 37 on engine 0: 2.692\n",
      "task 38 on engine 0: 2.692\n",
      "task 39 on engine 0: 2.692\n",
      "task 40 on engine 1: 3.157\n",
      "task 41 on engine 1: 3.157\n",
      "task 42 on engine 1: 3.157\n",
      "task 43 on engine 1: 3.157\n",
      "task 44 on engine 3: 3.680\n",
      "task 45 on engine 3: 3.680\n",
      "task 46 on engine 3: 3.680\n",
      "task 47 on engine 3: 3.680\n",
      "task 48 on engine 2: 4.248\n",
      "task 49 on engine 2: 4.249\n",
      "task 50 on engine 2: 4.249\n",
      "task 51 on engine 2: 4.249\n",
      "task 52 on engine 0: 4.886\n",
      "task 53 on engine 0: 4.887\n",
      "task 54 on engine 0: 4.887\n",
      "task 55 on engine 0: 4.887\n",
      "task 56 on engine 1: 5.499\n",
      "task 57 on engine 1: 5.499\n",
      "task 58 on engine 1: 5.499\n",
      "task 59 on engine 1: 5.499\n",
      "task 60 on engine 3: 6.170\n",
      "task 61 on engine 3: 6.171\n",
      "task 62 on engine 3: 6.171\n",
      "task 63 on engine 3: 6.171\n",
      "task 64 on engine 2: 6.894\n",
      "task 65 on engine 2: 6.895\n",
      "task 66 on engine 2: 6.895\n",
      "task 67 on engine 2: 6.896\n",
      "task 68 on engine 0: 7.724\n",
      "task 69 on engine 0: 7.724\n",
      "task 70 on engine 0: 7.725\n",
      "task 71 on engine 0: 7.725\n",
      "task 72 on engine 1: 8.490\n",
      "task 73 on engine 1: 8.490\n",
      "task 74 on engine 1: 8.491\n",
      "task 75 on engine 1: 8.491\n",
      "task 76 on engine 3: 9.317\n",
      "task 77 on engine 3: 9.317\n",
      "task 78 on engine 3: 9.317\n",
      "task 79 on engine 3: 9.317\n",
      "task 80 on engine 2: 10.181\n",
      "task 81 on engine 2: 10.181\n",
      "task 82 on engine 2: 10.181\n",
      "task 83 on engine 2: 10.181\n",
      "task 84 on engine 0: 11.167\n",
      "task 85 on engine 0: 11.167\n",
      "task 86 on engine 0: 11.168\n",
      "task 87 on engine 0: 11.168\n",
      "task 88 on engine 1: 12.134\n",
      "task 89 on engine 1: 12.134\n",
      "task 90 on engine 1: 12.135\n",
      "task 91 on engine 1: 12.135\n",
      "task 92 on engine 3: 13.110\n",
      "task 93 on engine 3: 13.111\n",
      "task 94 on engine 3: 13.111\n",
      "task 95 on engine 3: 13.111\n",
      "task 96 on engine 2: 14.124\n",
      "task 97 on engine 2: 14.124\n",
      "task 98 on engine 2: 14.125\n",
      "task 99 on engine 2: 14.125\n"
     ]
    }
   ],
   "source": [
    "amr = lview.map(sleep_here, [.01*t for t in range(100)], chunksize=4)\n",
    "tic = time.time()\n",
    "for i,r in enumerate(amr):\n",
    "    print(\"task %i on engine %i: %.3f\"%(i, r, time.time()-tic))"
   ]
  },
  {
   "cell_type": "markdown",
   "metadata": {},
   "source": [
    "# Excercise\n",
    "\n",
    "## Parallelize nested loops\n",
    "\n",
    "Often we want to run a function with a variety of combinations of arguments.\n",
    "A useful skill is the ability to express a nested loop in terms of a map."
   ]
  },
  {
   "cell_type": "code",
   "execution_count": 36,
   "metadata": {},
   "outputs": [
    {
     "data": {
      "text/plain": [
       "[6, 7, 8, 9, 12, 14, 16, 18, 18, 21, 24, 27]"
      ]
     },
     "execution_count": 36,
     "metadata": {},
     "output_type": "execute_result"
    }
   ],
   "source": [
    "def area(w,h):\n",
    "    return w*h\n",
    "\n",
    "\n",
    "widths = range(1,4)\n",
    "heights = range(6,10)\n",
    "\n",
    "areas = []\n",
    "for w in widths:\n",
    "    for h in heights:\n",
    "        areas.append(area(w,h))\n",
    "areas"
   ]
  },
  {
   "cell_type": "code",
   "execution_count": 38,
   "metadata": {},
   "outputs": [
    {
     "name": "stdout",
     "output_type": "stream",
     "text": [
      "(1, 6)\n",
      "(1, 7)\n",
      "(1, 8)\n",
      "(1, 9)\n",
      "(2, 6)\n",
      "(2, 7)\n",
      "(2, 8)\n",
      "(2, 9)\n",
      "(3, 6)\n",
      "(3, 7)\n",
      "(3, 8)\n",
      "(3, 9)\n"
     ]
    }
   ],
   "source": [
    "for w in widths:\n",
    "    for h in heights:\n",
    "        print((w, h))\n"
   ]
  },
  {
   "cell_type": "code",
   "execution_count": 37,
   "metadata": {},
   "outputs": [
    {
     "data": {
      "text/html": [
       "\n",
       "<button onclick=\"$('#hint').toggle();\" label=\"hint\">\n",
       "hint\n",
       "</button>\n",
       "\n",
       "<div id=\"hint\">\n",
       "`itertools.product` and `zip` will be helpful.\n",
       "</div>\n",
       "<script type=\"text/javascript\">\n",
       "    $('#hint').hide();\n",
       "</script>\n",
       "    "
      ],
      "text/plain": [
       "<IPython.core.display.HTML object>"
      ]
     },
     "metadata": {},
     "output_type": "display_data"
    }
   ],
   "source": [
    "%run ../hints\n",
    "nesthint()"
   ]
  },
  {
   "cell_type": "code",
   "execution_count": 39,
   "metadata": {},
   "outputs": [
    {
     "data": {
      "text/plain": [
       "\u001b[0;31mInit signature:\u001b[0m \u001b[0mproduct\u001b[0m\u001b[0;34m(\u001b[0m\u001b[0mself\u001b[0m\u001b[0;34m,\u001b[0m \u001b[0;34m/\u001b[0m\u001b[0;34m,\u001b[0m \u001b[0;34m*\u001b[0m\u001b[0margs\u001b[0m\u001b[0;34m,\u001b[0m \u001b[0;34m**\u001b[0m\u001b[0mkwargs\u001b[0m\u001b[0;34m)\u001b[0m\u001b[0;34m\u001b[0m\u001b[0m\n",
       "\u001b[0;31mDocstring:\u001b[0m     \n",
       "product(*iterables, repeat=1) --> product object\n",
       "\n",
       "Cartesian product of input iterables.  Equivalent to nested for-loops.\n",
       "\n",
       "For example, product(A, B) returns the same as:  ((x,y) for x in A for y in B).\n",
       "The leftmost iterators are in the outermost for-loop, so the output tuples\n",
       "cycle in a manner similar to an odometer (with the rightmost element changing\n",
       "on every iteration).\n",
       "\n",
       "To compute the product of an iterable with itself, specify the number\n",
       "of repetitions with the optional repeat keyword argument. For example,\n",
       "product(A, repeat=4) means the same as product(A, A, A, A).\n",
       "\n",
       "product('ab', range(3)) --> ('a',0) ('a',1) ('a',2) ('b',0) ('b',1) ('b',2)\n",
       "product((0,1), (0,1), (0,1)) --> (0,0,0) (0,0,1) (0,1,0) (0,1,1) (1,0,0) ...\n",
       "\u001b[0;31mType:\u001b[0m           type\n"
      ]
     },
     "metadata": {},
     "output_type": "display_data"
    }
   ],
   "source": [
    "from itertools import product\n",
    "product?"
   ]
  },
  {
   "cell_type": "code",
   "execution_count": 41,
   "metadata": {},
   "outputs": [
    {
     "data": {
      "text/plain": [
       "[(1, 6),\n",
       " (1, 7),\n",
       " (1, 8),\n",
       " (1, 9),\n",
       " (2, 6),\n",
       " (2, 7),\n",
       " (2, 8),\n",
       " (2, 9),\n",
       " (3, 6),\n",
       " (3, 7),\n",
       " (3, 8),\n",
       " (3, 9)]"
      ]
     },
     "execution_count": 41,
     "metadata": {},
     "output_type": "execute_result"
    }
   ],
   "source": [
    "list(product(widths, heights))"
   ]
  },
  {
   "cell_type": "code",
   "execution_count": 48,
   "metadata": {},
   "outputs": [
    {
     "data": {
      "text/plain": [
       "([1, 1, 1, 1, 2, 2, 2, 2, 3, 3, 3, 3], [6, 7, 8, 9, 6, 7, 8, 9, 6, 7, 8, 9])"
      ]
     },
     "execution_count": 48,
     "metadata": {},
     "output_type": "execute_result"
    }
   ],
   "source": [
    "all_widths = []\n",
    "all_heights = []\n",
    "for width in widths:\n",
    "    for height in heights:\n",
    "        all_widths.append(width)\n",
    "        all_heights.append(height)\n",
    "all_widths, all_heights"
   ]
  },
  {
   "cell_type": "code",
   "execution_count": 47,
   "metadata": {},
   "outputs": [
    {
     "data": {
      "text/plain": [
       "[(1, 1), (6, 7)]"
      ]
     },
     "execution_count": 47,
     "metadata": {},
     "output_type": "execute_result"
    }
   ],
   "source": [
    "list(zip((1, 6), (1, 7)))"
   ]
  },
  {
   "cell_type": "code",
   "execution_count": 44,
   "metadata": {},
   "outputs": [
    {
     "data": {
      "text/plain": [
       "[(1, 2), ('a', 'b')]"
      ]
     },
     "execution_count": 44,
     "metadata": {},
     "output_type": "execute_result"
    }
   ],
   "source": [
    "list(zip((1, 'a'), (2, 'b')))"
   ]
  },
  {
   "cell_type": "code",
   "execution_count": 52,
   "metadata": {
    "collapsed": true
   },
   "outputs": [],
   "source": [
    "a = [1, 2, 3]"
   ]
  },
  {
   "cell_type": "code",
   "execution_count": 54,
   "metadata": {},
   "outputs": [
    {
     "name": "stdout",
     "output_type": "stream",
     "text": [
      "[1, 2, 3]\n"
     ]
    }
   ],
   "source": [
    "print(a)"
   ]
  },
  {
   "cell_type": "code",
   "execution_count": 55,
   "metadata": {},
   "outputs": [
    {
     "name": "stdout",
     "output_type": "stream",
     "text": [
      "1 2 3\n"
     ]
    }
   ],
   "source": [
    "print(*a)"
   ]
  },
  {
   "cell_type": "code",
   "execution_count": 50,
   "metadata": {},
   "outputs": [
    {
     "name": "stdout",
     "output_type": "stream",
     "text": [
      " widths (1, 1, 1, 1, 2, 2, 2, 2, 3, 3, 3, 3)\n",
      "heights (6, 7, 8, 9, 6, 7, 8, 9, 6, 7, 8, 9)\n"
     ]
    }
   ],
   "source": [
    "# %load ../soln/nestedloop.py\n",
    "# To parallelize every call with map, you just need to get a list for each argument.\n",
    "# You can use `itertools.product` + `zip` to get this:\n",
    "\n",
    "\n",
    "import itertools\n",
    "\n",
    "product = list(itertools.product(widths, heights))\n",
    "# [(1, 6), (1, 7), (2, 6), (2, 7), (3, 6), (3, 7)]\n",
    "\n",
    "# So we have a \"list of pairs\", \n",
    "# but what we really want is a single list for each argument, i.e. a \"pair of lists\".\n",
    "# This is exactly what the slightly weird `zip(*product)` syntax gets us:\n",
    "\n",
    "allwidths, allheights = zip(*itertools.product(widths, heights))\n",
    "\n",
    "print(\" widths\", allwidths)\n",
    "print(\"heights\", allheights)\n",
    "\n",
    "# Now we just map our function onto those two lists, to parallelize nested for loops:\n",
    "\n",
    "ar = lview.map_async(area, allwidths, allheights)\n"
   ]
  },
  {
   "cell_type": "markdown",
   "metadata": {},
   "source": [
    "Validate the result:"
   ]
  },
  {
   "cell_type": "code",
   "execution_count": 51,
   "metadata": {},
   "outputs": [
    {
     "data": {
      "text/plain": [
       "[6, 7, 8, 9, 12, 14, 16, 18, 18, 21, 24, 27]"
      ]
     },
     "execution_count": 51,
     "metadata": {},
     "output_type": "execute_result"
    }
   ],
   "source": [
    "p_areas = ar.get()\n",
    "p_areas"
   ]
  },
  {
   "cell_type": "code",
   "execution_count": null,
   "metadata": {
    "collapsed": true
   },
   "outputs": [],
   "source": [
    "areas == p_areas"
   ]
  },
  {
   "cell_type": "markdown",
   "metadata": {},
   "source": [
    "## Examples and Exercises"
   ]
  },
  {
   "cell_type": "markdown",
   "metadata": {},
   "source": [
    "- [Counting Words!](../examples/Counting%20Words.ipynb)\n",
    "- [Monte Carlo Options Pricing](../examples/MC%20Options.ipynb)"
   ]
  },
  {
   "cell_type": "markdown",
   "metadata": {},
   "source": [
    "Now that we've seen multiplexing and load-balancing, let's see how they are [used together](All%20Together.ipynb)."
   ]
  }
 ],
 "metadata": {
  "kernelspec": {
   "display_name": "Python 3",
   "language": "python",
   "name": "python3"
  },
  "language_info": {
   "codemirror_mode": {
    "name": "ipython",
    "version": 3
   },
   "file_extension": ".py",
   "mimetype": "text/x-python",
   "name": "python",
   "nbconvert_exporter": "python",
   "pygments_lexer": "ipython3",
   "version": "3.6.0"
  },
  "widgets": {
   "state": {},
   "version": "1.1.1"
  }
 },
 "nbformat": 4,
 "nbformat_minor": 1
}
