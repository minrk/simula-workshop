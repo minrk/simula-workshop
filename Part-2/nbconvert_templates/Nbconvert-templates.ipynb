{
 "cells": [
  {
   "cell_type": "markdown",
   "metadata": {},
   "source": [
    "# Nbconvert and Templates\n",
    "\n",
    "Nbconvert is the tool to export your notebooks to HTML, Markdown, restructuredtext or PDF (via LaTeX). You can use it at the command line:\n",
    "\n",
    "    jupyter nbconvert --to html Index.ipynb\n",
    "\n",
    "It's also integrated into the notebook interface: look for **Download as** in the **File** menu.\n",
    "\n",
    "Nbconvert uses a set of templates that describe the structure of different kinds of files, as well as how to insert pieces of content from a notebook into them. IPython includes basic templates for different output formats, but for more specific needs, you can define your own templates. Here's an example of a template that highlights Markdown cells in HTML output:"
   ]
  },
  {
   "cell_type": "code",
   "execution_count": 1,
   "metadata": {},
   "outputs": [
    {
     "name": "stdout",
     "output_type": "stream",
     "text": [
      "{# This is a comment #}\n",
      "\n",
      "{# First we need to say which template we're extending.\n",
      "   full.tpl is the default template for HTML output. #}\n",
      "{%- extends 'full.tpl' -%}\n",
      "\n",
      "{# Now to override some blocks. #}\n",
      "\n",
      "{%- block markdowncell -%}\n",
      "<div style=\"background-color: hsl(85, 86%, 76%);\">\n",
      "{# super() means 'put here whatever the parent template does for this block' #}\n",
      "{{ super() }}\n",
      "</div>\n",
      "{%- endblock markdowncell -%}\n",
      "\n"
     ]
    }
   ],
   "source": [
    "with open(\"makeitpop.tpl\") as f:\n",
    "    print(f.read())"
   ]
  },
  {
   "cell_type": "markdown",
   "metadata": {},
   "source": [
    "To use this template, add a `--template` argument on the command line:\n",
    "\n",
    "    jupyter nbconvert --to html Index.ipynb --template makeitpop.tpl\n",
    "\n",
    "The template system Nbconvert uses is called *Jinja2*. There's much more information about the syntax of templates in the [Jinja2 documentation](http://jinja.pocoo.org/docs/dev/templates/).\n",
    "\n",
    "For LaTeX, we use a modified syntax, because the `{}` braces clash with LaTeX itself:\n",
    "\n",
    "Normal | LaTeX templates\n",
    "-------|----------------\n",
    "`{{ expression }}` | `((( expression )))`\n",
    "`{% logic/block definition %}` | `((* logic/block definition *))`\n",
    "`{# comment #}` | `((= comment =))`\n",
    "\n",
    "We gave our LaTeX templates a `.tplx` extension, instead of `.tpl`, to highlight this. The default template for LaTeX is called `article.tplx`."
   ]
  },
  {
   "cell_type": "code",
   "execution_count": 2,
   "metadata": {},
   "outputs": [
    {
     "data": {
      "text/html": [
       "<!DOCTYPE html>\n",
       "<html>\n",
       "<head>\n",
       "\n",
       "<meta charset=\"utf-8\" />\n",
       "<title>Nbconvert template structure</title>\n",
       "\n",
       "<style type=\"text/css\">\n",
       "/* Overrides of notebook CSS for static HTML export */\n",
       "body {\n",
       "    font-family: sans;\n",
       "}\n",
       "\n",
       ".template_block {\n",
       "    background-color: hsla(120, 60%, 70%, 0.2);\n",
       "    margin: 10px;\n",
       "    padding: 5px;\n",
       "    border: 1px solid hsla(120, 60%, 70%, 0.5);\n",
       "    border-left: 2px solid black;\n",
       "}\n",
       "\n",
       ".big_vertical_ellipsis {\n",
       "    font-size: 24pt;\n",
       "}\n",
       "\n",
       "</style>\n",
       "\n",
       "</head>\n",
       "\n",
       "<body>\n",
       "<h1>Nbconvert template structure</h1>\n",
       "\n",
       "Nbconvert templates consist of a set of nested blocks. When defining a new\n",
       "template, you extend an existing template by overriding some of the blocks.\n",
       "\n",
       "All the templates shipped in nbconvert have the basic structure described here,\n",
       "though some may define additional blocks.\n",
       "\n",
       "<h2>Main page</h2>\n",
       "<div class=\"template_block\">header</div>\n",
       "\n",
       "<div class=\"template_block\">body\n",
       "    <div class=\"template_block\">any_cell\n",
       "        <div class=\"template_block\">codecell\n",
       "            <div class=\"template_block\">input_group\n",
       "                <div class=\"template_block\">in_prompt</div>\n",
       "                <div class=\"template_block\">input</div>\n",
       "            </div>\n",
       "            <div class=\"template_block\">output_group\n",
       "                <div class=\"template_block\">output_prompt</div>\n",
       "                <div class=\"template_block\">outputs (see below)</div>\n",
       "            </div>\n",
       "        </div>\n",
       "    </div>\n",
       "    <div class=\"template_block\">any_cell\n",
       "        <div class=\"template_block\">markdowncell</div>\n",
       "    </div>\n",
       "    <div class=\"template_block\">any_cell\n",
       "        <div class=\"template_block\">rawcell</div>\n",
       "    </div>\n",
       "    <div class=\"template_block\">any_cell\n",
       "        <div class=\"template_block\">unknowncell</div>\n",
       "    </div>\n",
       "    <div class=\"big_vertical_ellipsis\">⋮</div>\n",
       "</div>\n",
       "\n",
       "<div class=\"template_block\">footer</div>\n",
       "\n",
       "<h2>Outputs</h2>\n",
       "\n",
       "<div class=\"template_block\">outputs\n",
       "    <div class=\"template_block\">output\n",
       "        <div class=\"template_block\">execute_result</div>\n",
       "    </div>\n",
       "    <div class=\"template_block\">output\n",
       "        <div class=\"template_block\">stream_stdout</div>\n",
       "    </div>\n",
       "    <div class=\"template_block\">output\n",
       "        <div class=\"template_block\">stream_stderr</div>\n",
       "    </div>\n",
       "    <div class=\"template_block\">output\n",
       "        <div class=\"template_block\">display_data\n",
       "            <div class=\"template_block\">data_priority\n",
       "                <div class=\"template_block\">data_pdf / data_svg / data_png /\n",
       "                    data_html / data_markdown / data_jpg / data_text /\n",
       "                    data_latex / data_javascript / data_other\n",
       "                </div>\n",
       "            </div>\n",
       "        </div>\n",
       "    </div>\n",
       "    <div class=\"template_block\">output\n",
       "        <div class=\"template_block\">error\n",
       "            <div class=\"template_block\">traceback_line</div>\n",
       "            <div class=\"big_vertical_ellipsis\">⋮</div>\n",
       "        </div>\n",
       "    </div>\n",
       "    <div class=\"big_vertical_ellipsis\">⋮</div>\n",
       "</div>\n",
       "\n",
       "\n",
       "\n",
       "</body>\n",
       "\n",
       "</html>\n"
      ],
      "text/plain": [
       "<IPython.core.display.HTML object>"
      ]
     },
     "execution_count": 2,
     "metadata": {},
     "output_type": "execute_result"
    }
   ],
   "source": [
    "from IPython.display import HTML\n",
    "HTML(filename='nbconvert_template_structure.html')"
   ]
  },
  {
   "cell_type": "markdown",
   "metadata": {},
   "source": [
    "## Challenge\n",
    "\n",
    "People often want to use notebooks to generate reports, where some or all of the code is unimportant. There's an example in this folder: [Stock display.ipynb](Stock-display.ipynb).\n",
    "\n",
    "1. Using the information above, make a custom LaTeX template which will hide all the code cells. Use it at the command line, and run pdflatex to check the results.\n",
    "2. Some of the code cells in that notebook have some special metadata: `\"nbconvert\": {\"hide_code\": true}`. You can access the metadata in the cell blocks of the template as `cell.metadata`. Make a new LaTeX template which will hide cells with this set, and show cells without it. Look for **if** in the [Jinja template docs](http://jinja.pocoo.org/docs/dev/templates/).\n",
    "\n",
    "Once you've tried this, compare your solutions with the ones in the *solutions* directory."
   ]
  },
  {
   "cell_type": "markdown",
   "metadata": {},
   "source": [
    "## Demo\n",
    "\n",
    "Templates can add complex features to exported notebooks. [foldcode.tpl](foldcode.tpl) is an HTML template that adds buttons to hide and reveal code cells using Javascript and CSS. It uses the same metadata you just used in a LaTeX template to decide determine whether each cell will be visible initially. Run it on `Stock display.ipynb` and look at the result in your browser."
   ]
  }
 ],
 "metadata": {
  "kernelspec": {
   "display_name": "Python 3",
   "language": "python",
   "name": "python3"
  },
  "language_info": {
   "codemirror_mode": {
    "name": "ipython",
    "version": 3
   },
   "file_extension": ".py",
   "mimetype": "text/x-python",
   "name": "python",
   "nbconvert_exporter": "python",
   "pygments_lexer": "ipython3",
   "version": "3.5.2"
  }
 },
 "nbformat": 4,
 "nbformat_minor": 1
}
